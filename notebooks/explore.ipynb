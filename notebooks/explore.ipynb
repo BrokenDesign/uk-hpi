{
 "cells": [
  {
   "cell_type": "markdown",
   "metadata": {},
   "source": [
    "# House Price Index"
   ]
  },
  {
   "cell_type": "markdown",
   "metadata": {},
   "source": [
    "## Introduction\n",
    "\n",
    "This makes use of the following data sources: \n",
    "* https://www.gov.uk/government/statistical-data-sets/uk-house-price-index-data-downloads-may-2022\n",
    "* https://geoportal.statistics.gov.uk/datasets/register-of-geographic-codes-december-2023-for-the-united-kingdom\n",
    "* https://geoportal.statistics.gov.uk/datasets/ons-postcode-directory-november-2023"
   ]
  },
  {
   "cell_type": "markdown",
   "metadata": {},
   "source": [
    "## Imports & Settings"
   ]
  },
  {
   "cell_type": "code",
   "execution_count": 13,
   "metadata": {},
   "outputs": [
    {
     "data": {
      "text/plain": [
       "<polars.config.Config at 0x109396fc0>"
      ]
     },
     "execution_count": 13,
     "metadata": {},
     "output_type": "execute_result"
    }
   ],
   "source": [
    "import csv\n",
    "\n",
    "from pprint import pprint\n",
    "\n",
    "import polars as pl\n",
    "\n",
    "from IPython.display import display, HTML\n",
    "from ipywidgets import widgets\n",
    "# display all columns\n",
    "pl.Config(tbl_cols=None)"
   ]
  },
  {
   "cell_type": "code",
   "execution_count": 16,
   "metadata": {
    "tags": []
   },
   "outputs": [
    {
     "data": {
      "application/vnd.jupyter.widget-view+json": {
       "model_id": "3982d259b5a6441484d67f73a3078154",
       "version_major": 2,
       "version_minor": 0
      },
      "text/plain": [
       "Dropdown(description='Housing Type:', index=1, options=('detached', 'semi_detached', 'terrace'), style=Descrip…"
      ]
     },
     "metadata": {},
     "output_type": "display_data"
    }
   ],
   "source": [
    "housing_type = widgets.Dropdown(\n",
    "    options=[\"detached\", \"semi_detached\", \"terrace\"],\n",
    "    value=\"semi_detached\",\n",
    "    description='Housing Type:',\n",
    ")\n",
    "housing_type.style.description_width = \"auto\"\n",
    "display(housing_type)\n",
    "\n",
    "\n",
    "postcode = widgets.Text(\n",
    "    value=\"\",\n",
    "    description='Postcode:',\n",
    ")\n",
    "postcode.style.description_width = \"auto\"\n",
    "display(postcode)"
   ]
  },
  {
   "cell_type": "code",
   "execution_count": 7,
   "metadata": {},
   "outputs": [
    {
     "name": "stdout",
     "output_type": "stream",
     "text": [
      "detached\n"
     ]
    }
   ],
   "source": [
    "print(housing_type.value)"
   ]
  },
  {
   "cell_type": "markdown",
   "metadata": {},
   "source": [
    "## HPI Data\n",
    "Source: https://www.gov.uk/government/statistical-data-sets/uk-house-price-index-data-downloads-may-2022"
   ]
  },
  {
   "cell_type": "code",
   "execution_count": 13,
   "metadata": {},
   "outputs": [
    {
     "data": {
      "text/html": [
       "<div><style>\n",
       ".dataframe > thead > tr,\n",
       ".dataframe > tbody > tr {\n",
       "  text-align: right;\n",
       "  white-space: pre-wrap;\n",
       "}\n",
       "</style>\n",
       "<small>shape: (130_836, 19)</small><table border=\"1\" class=\"dataframe\"><thead><tr><th>date</th><th>region_name</th><th>area_code</th><th>detached_average_price</th><th>detached_index</th><th>detached_monthly_change</th><th>detached_annual_change</th><th>semi_detached_average_price</th><th>semi_detached_index</th><th>semi_detached_monthly_change</th><th>semi_detached_annual_change</th><th>terraced_average_price</th><th>terraced_index</th><th>terraced_monthly_change</th><th>terraced_annual_change</th><th>flat_average_price</th><th>flat_index</th><th>flat_monthly_change</th><th>flat_annual_change</th></tr><tr><td>str</td><td>str</td><td>str</td><td>f64</td><td>f64</td><td>str</td><td>str</td><td>f64</td><td>f64</td><td>str</td><td>str</td><td>f64</td><td>f64</td><td>str</td><td>str</td><td>f64</td><td>f64</td><td>str</td><td>str</td></tr></thead><tbody><tr><td>&quot;1995-01-01&quot;</td><td>&quot;England&quot;</td><td>&quot;E92000001&quot;</td><td>86314.15895</td><td>28.257874</td><td>null</td><td>null</td><td>51533.22543</td><td>27.436474</td><td>null</td><td>null</td><td>41489.82431</td><td>25.279664</td><td>null</td><td>null</td><td>45218.54082</td><td>23.762969</td><td>null</td><td>null</td></tr><tr><td>&quot;1995-01-01&quot;</td><td>&quot;Wales&quot;</td><td>&quot;W92000004&quot;</td><td>66539.58684</td><td>32.491063</td><td>null</td><td>null</td><td>41043.45436</td><td>31.399881</td><td>null</td><td>null</td><td>32506.88477</td><td>30.777231</td><td>null</td><td>null</td><td>34061.27288</td><td>34.448112</td><td>null</td><td>null</td></tr><tr><td>&quot;1995-01-01&quot;</td><td>&quot;Inner London&quot;</td><td>&quot;E13000001&quot;</td><td>194483.5365</td><td>16.399257</td><td>null</td><td>null</td><td>121073.17</td><td>15.327414</td><td>null</td><td>null</td><td>87553.48096</td><td>14.627111</td><td>null</td><td>null</td><td>73707.69351</td><td>15.492239</td><td>null</td><td>null</td></tr><tr><td>&quot;1995-01-01&quot;</td><td>&quot;Outer London&quot;</td><td>&quot;E13000002&quot;</td><td>160329.9602</td><td>22.303302</td><td>null</td><td>null</td><td>94802.27143</td><td>21.065017</td><td>null</td><td>null</td><td>70087.65516</td><td>20.040752</td><td>null</td><td>null</td><td>58266.86811</td><td>21.764751</td><td>null</td><td>null</td></tr><tr><td>&quot;1995-01-01&quot;</td><td>&quot;London&quot;</td><td>&quot;E12000007&quot;</td><td>161449.3055</td><td>21.715622</td><td>null</td><td>null</td><td>95897.5293</td><td>20.321394</td><td>null</td><td>null</td><td>73705.96582</td><td>18.023197</td><td>null</td><td>null</td><td>64618.57236</td><td>17.858341</td><td>null</td><td>null</td></tr><tr><td>&quot;1995-01-01&quot;</td><td>&quot;East of Englan…</td><td>&quot;E12000006&quot;</td><td>88394.24421</td><td>25.892273</td><td>null</td><td>null</td><td>56278.555</td><td>24.527416</td><td>null</td><td>null</td><td>45356.64897</td><td>23.68537</td><td>null</td><td>null</td><td>40450.34445</td><td>26.116976</td><td>null</td><td>null</td></tr><tr><td>&quot;1995-01-01&quot;</td><td>&quot;North West&quot;</td><td>&quot;E12000002&quot;</td><td>79786.62874</td><td>33.95164</td><td>null</td><td>null</td><td>46063.02541</td><td>32.234016</td><td>null</td><td>null</td><td>32974.56756</td><td>31.588852</td><td>null</td><td>null</td><td>34432.82565</td><td>34.028771</td><td>null</td><td>null</td></tr><tr><td>&quot;1995-01-01&quot;</td><td>&quot;South East&quot;</td><td>&quot;E12000008&quot;</td><td>113412.4956</td><td>24.938444</td><td>null</td><td>null</td><td>66624.94926</td><td>23.874543</td><td>null</td><td>null</td><td>51088.69435</td><td>23.184027</td><td>null</td><td>null</td><td>43145.7917</td><td>25.379798</td><td>null</td><td>null</td></tr><tr><td>&quot;1995-01-01&quot;</td><td>&quot;West Midlands …</td><td>&quot;E12000005&quot;</td><td>81999.45317</td><td>31.385024</td><td>null</td><td>null</td><td>46457.18302</td><td>30.453267</td><td>null</td><td>null</td><td>36678.16759</td><td>29.405104</td><td>null</td><td>null</td><td>34983.15565</td><td>33.326469</td><td>null</td><td>null</td></tr><tr><td>&quot;1995-01-01&quot;</td><td>&quot;South West&quot;</td><td>&quot;E12000009&quot;</td><td>87928.85541</td><td>26.691252</td><td>null</td><td>null</td><td>54297.329</td><td>25.505373</td><td>null</td><td>null</td><td>43403.73182</td><td>24.528639</td><td>null</td><td>null</td><td>37858.52323</td><td>26.701796</td><td>null</td><td>null</td></tr><tr><td>&quot;1995-01-01&quot;</td><td>&quot;East Midlands&quot;</td><td>&quot;E12000004&quot;</td><td>68923.93824</td><td>30.745262</td><td>null</td><td>null</td><td>41227.49644</td><td>29.322019</td><td>null</td><td>null</td><td>32870.49385</td><td>28.249263</td><td>null</td><td>null</td><td>30954.76135</td><td>32.880529</td><td>null</td><td>null</td></tr><tr><td>&quot;1995-01-01&quot;</td><td>&quot;Yorkshire and …</td><td>&quot;E12000003&quot;</td><td>74264.80545</td><td>34.084619</td><td>null</td><td>null</td><td>43825.65077</td><td>32.737774</td><td>null</td><td>null</td><td>34857.02318</td><td>32.049691</td><td>null</td><td>null</td><td>34607.69838</td><td>34.714146</td><td>null</td><td>null</td></tr><tr><td>&hellip;</td><td>&hellip;</td><td>&hellip;</td><td>&hellip;</td><td>&hellip;</td><td>&hellip;</td><td>&hellip;</td><td>&hellip;</td><td>&hellip;</td><td>&hellip;</td><td>&hellip;</td><td>&hellip;</td><td>&hellip;</td><td>&hellip;</td><td>&hellip;</td><td>&hellip;</td><td>&hellip;</td><td>&hellip;</td><td>&hellip;</td></tr><tr><td>&quot;2023-06-01&quot;</td><td>&quot;Warrington&quot;</td><td>&quot;E06000007&quot;</td><td>450239.0</td><td>172.2</td><td>&quot;1.5&quot;</td><td>&quot;4.8&quot;</td><td>257410.0</td><td>168.9</td><td>&quot;1.8&quot;</td><td>&quot;3.9&quot;</td><td>202658.0</td><td>164.4</td><td>&quot;2&quot;</td><td>&quot;2.8&quot;</td><td>145045.0</td><td>148.0</td><td>&quot;2&quot;</td><td>&quot;3.3&quot;</td></tr><tr><td>&quot;2023-06-01&quot;</td><td>&quot;Blackburn with…</td><td>&quot;E06000008&quot;</td><td>267507.0</td><td>152.3</td><td>&quot;-2.6&quot;</td><td>&quot;6.8&quot;</td><td>151805.0</td><td>145.7</td><td>&quot;-2.2&quot;</td><td>&quot;4&quot;</td><td>116927.0</td><td>141.5</td><td>&quot;-1.9&quot;</td><td>&quot;2.8&quot;</td><td>88970.0</td><td>128.6</td><td>&quot;-1.9&quot;</td><td>&quot;3&quot;</td></tr><tr><td>&quot;2023-06-01&quot;</td><td>&quot;Blackpool&quot;</td><td>&quot;E06000009&quot;</td><td>228788.0</td><td>142.3</td><td>&quot;2&quot;</td><td>&quot;2.8&quot;</td><td>154770.0</td><td>140.7</td><td>&quot;2.3&quot;</td><td>&quot;3.2&quot;</td><td>114017.0</td><td>136.9</td><td>&quot;2.6&quot;</td><td>&quot;1.8&quot;</td><td>80341.0</td><td>123.9</td><td>&quot;2.5&quot;</td><td>&quot;2.1&quot;</td></tr><tr><td>&quot;2023-06-01&quot;</td><td>&quot;City of Kingst…</td><td>&quot;E06000010&quot;</td><td>263594.0</td><td>155.4</td><td>&quot;2.3&quot;</td><td>&quot;4.2&quot;</td><td>158431.0</td><td>151.4</td><td>&quot;2.5&quot;</td><td>&quot;3.3&quot;</td><td>119272.0</td><td>146.0</td><td>&quot;2.9&quot;</td><td>&quot;1.9&quot;</td><td>90996.0</td><td>131.4</td><td>&quot;2.7&quot;</td><td>&quot;3.1&quot;</td></tr><tr><td>&quot;2023-06-01&quot;</td><td>&quot;East Riding of…</td><td>&quot;E06000011&quot;</td><td>332412.0</td><td>151.4</td><td>&quot;1.7&quot;</td><td>&quot;4.2&quot;</td><td>206648.0</td><td>147.7</td><td>&quot;2.1&quot;</td><td>&quot;3.9&quot;</td><td>163938.0</td><td>143.1</td><td>&quot;2.4&quot;</td><td>&quot;2.4&quot;</td><td>107997.0</td><td>127.2</td><td>&quot;2.3&quot;</td><td>&quot;2.5&quot;</td></tr><tr><td>&quot;2023-06-01&quot;</td><td>&quot;North East Lin…</td><td>&quot;E06000012&quot;</td><td>250033.0</td><td>148.2</td><td>&quot;2.1&quot;</td><td>&quot;4.9&quot;</td><td>159341.0</td><td>146.0</td><td>&quot;2.4&quot;</td><td>&quot;4.5&quot;</td><td>115114.0</td><td>141.4</td><td>&quot;2.7&quot;</td><td>&quot;2.9&quot;</td><td>77547.0</td><td>125.7</td><td>&quot;2.5&quot;</td><td>&quot;2.6&quot;</td></tr><tr><td>&quot;2023-06-01&quot;</td><td>&quot;Bracknell Fore…</td><td>&quot;E06000036&quot;</td><td>751078.0</td><td>144.9</td><td>&quot;0.7&quot;</td><td>&quot;1.9&quot;</td><td>447764.0</td><td>143.7</td><td>&quot;1.1&quot;</td><td>&quot;1.9&quot;</td><td>337075.0</td><td>138.4</td><td>&quot;1.4&quot;</td><td>&quot;0.4&quot;</td><td>230909.0</td><td>127.4</td><td>&quot;1.2&quot;</td><td>&quot;2.6&quot;</td></tr><tr><td>&quot;2023-06-01&quot;</td><td>&quot;West Berkshire…</td><td>&quot;E06000037&quot;</td><td>683248.0</td><td>142.5</td><td>&quot;-1.7&quot;</td><td>&quot;1.9&quot;</td><td>406969.0</td><td>141.0</td><td>&quot;-1.3&quot;</td><td>&quot;2&quot;</td><td>321100.0</td><td>136.7</td><td>&quot;-1.1&quot;</td><td>&quot;1.3&quot;</td><td>214104.0</td><td>124.9</td><td>&quot;-1.1&quot;</td><td>&quot;2.2&quot;</td></tr><tr><td>&quot;2023-06-01&quot;</td><td>&quot;Reading&quot;</td><td>&quot;E06000038&quot;</td><td>701628.0</td><td>141.4</td><td>&quot;3.2&quot;</td><td>&quot;3.3&quot;</td><td>432447.0</td><td>141.1</td><td>&quot;3.6&quot;</td><td>&quot;3.5&quot;</td><td>337187.0</td><td>137.1</td><td>&quot;3.8&quot;</td><td>&quot;2.5&quot;</td><td>228874.0</td><td>124.1</td><td>&quot;3.7&quot;</td><td>&quot;4.2&quot;</td></tr><tr><td>&quot;2023-06-01&quot;</td><td>&quot;England and Wa…</td><td>&quot;K04000001&quot;</td><td>469836.0</td><td>157.5</td><td>&quot;0.7&quot;</td><td>&quot;2.5&quot;</td><td>289448.0</td><td>157.0</td><td>&quot;1.2&quot;</td><td>&quot;2.3&quot;</td><td>244698.0</td><td>152.6</td><td>&quot;1&quot;</td><td>&quot;0.8&quot;</td><td>248458.0</td><td>132.2</td><td>&quot;0.4&quot;</td><td>&quot;1.1&quot;</td></tr><tr><td>&quot;2023-06-01&quot;</td><td>&quot;Great Britain&quot;</td><td>&quot;K03000001&quot;</td><td>457728.0</td><td>156.6</td><td>&quot;0.5&quot;</td><td>&quot;2.2&quot;</td><td>283062.0</td><td>156.2</td><td>&quot;1.1&quot;</td><td>&quot;2.2&quot;</td><td>238669.0</td><td>152.1</td><td>&quot;0.9&quot;</td><td>&quot;0.8&quot;</td><td>231037.0</td><td>133.4</td><td>&quot;0.1&quot;</td><td>&quot;0.8&quot;</td></tr><tr><td>&quot;2023-06-01&quot;</td><td>&quot;United Kingdom…</td><td>&quot;K02000001&quot;</td><td>451157.0</td><td>156.8</td><td>&quot;0.5&quot;</td><td>&quot;2.3&quot;</td><td>279059.0</td><td>156.1</td><td>&quot;1.1&quot;</td><td>&quot;2.2&quot;</td><td>234373.0</td><td>152.2</td><td>&quot;0.9&quot;</td><td>&quot;0.8&quot;</td><td>231037.0</td><td>133.4</td><td>&quot;0.1&quot;</td><td>&quot;0.8&quot;</td></tr></tbody></table></div>"
      ],
      "text/plain": [
       "shape: (130_836, 19)\n",
       "┌───────────┬───────────┬───────────┬───────────┬───┬───────────┬───────────┬───────────┬──────────┐\n",
       "│ date      ┆ region_na ┆ area_code ┆ detached_ ┆ … ┆ flat_aver ┆ flat_inde ┆ flat_mont ┆ flat_ann │\n",
       "│ ---       ┆ me        ┆ ---       ┆ average_p ┆   ┆ age_price ┆ x         ┆ hly_chang ┆ ual_chan │\n",
       "│ str       ┆ ---       ┆ str       ┆ rice      ┆   ┆ ---       ┆ ---       ┆ e         ┆ ge       │\n",
       "│           ┆ str       ┆           ┆ ---       ┆   ┆ f64       ┆ f64       ┆ ---       ┆ ---      │\n",
       "│           ┆           ┆           ┆ f64       ┆   ┆           ┆           ┆ str       ┆ str      │\n",
       "╞═══════════╪═══════════╪═══════════╪═══════════╪═══╪═══════════╪═══════════╪═══════════╪══════════╡\n",
       "│ 1995-01-0 ┆ England   ┆ E92000001 ┆ 86314.158 ┆ … ┆ 45218.540 ┆ 23.762969 ┆ null      ┆ null     │\n",
       "│ 1         ┆           ┆           ┆ 95        ┆   ┆ 82        ┆           ┆           ┆          │\n",
       "│ 1995-01-0 ┆ Wales     ┆ W92000004 ┆ 66539.586 ┆ … ┆ 34061.272 ┆ 34.448112 ┆ null      ┆ null     │\n",
       "│ 1         ┆           ┆           ┆ 84        ┆   ┆ 88        ┆           ┆           ┆          │\n",
       "│ 1995-01-0 ┆ Inner     ┆ E13000001 ┆ 194483.53 ┆ … ┆ 73707.693 ┆ 15.492239 ┆ null      ┆ null     │\n",
       "│ 1         ┆ London    ┆           ┆ 65        ┆   ┆ 51        ┆           ┆           ┆          │\n",
       "│ 1995-01-0 ┆ Outer     ┆ E13000002 ┆ 160329.96 ┆ … ┆ 58266.868 ┆ 21.764751 ┆ null      ┆ null     │\n",
       "│ 1         ┆ London    ┆           ┆ 02        ┆   ┆ 11        ┆           ┆           ┆          │\n",
       "│ …         ┆ …         ┆ …         ┆ …         ┆ … ┆ …         ┆ …         ┆ …         ┆ …        │\n",
       "│ 2023-06-0 ┆ Reading   ┆ E06000038 ┆ 701628.0  ┆ … ┆ 228874.0  ┆ 124.1     ┆ 3.7       ┆ 4.2      │\n",
       "│ 1         ┆           ┆           ┆           ┆   ┆           ┆           ┆           ┆          │\n",
       "│ 2023-06-0 ┆ England   ┆ K04000001 ┆ 469836.0  ┆ … ┆ 248458.0  ┆ 132.2     ┆ 0.4       ┆ 1.1      │\n",
       "│ 1         ┆ and Wales ┆           ┆           ┆   ┆           ┆           ┆           ┆          │\n",
       "│ 2023-06-0 ┆ Great     ┆ K03000001 ┆ 457728.0  ┆ … ┆ 231037.0  ┆ 133.4     ┆ 0.1       ┆ 0.8      │\n",
       "│ 1         ┆ Britain   ┆           ┆           ┆   ┆           ┆           ┆           ┆          │\n",
       "│ 2023-06-0 ┆ United    ┆ K02000001 ┆ 451157.0  ┆ … ┆ 231037.0  ┆ 133.4     ┆ 0.1       ┆ 0.8      │\n",
       "│ 1         ┆ Kingdom   ┆           ┆           ┆   ┆           ┆           ┆           ┆          │\n",
       "└───────────┴───────────┴───────────┴───────────┴───┴───────────┴───────────┴───────────┴──────────┘"
      ]
     },
     "execution_count": 13,
     "metadata": {},
     "output_type": "execute_result"
    }
   ],
   "source": [
    "hpi = pl.read_csv(\"../data/Average-prices-Property-Type-2023-06.csv\")\n",
    "hpi = hpi.rename({col: col.lower() for col in hpi.columns})\n",
    "hpi = hpi.select([\n",
    "    \"date\",\n",
    "    \"region_name\", \n",
    "    \"area_code\",\n",
    "    f\"{housing_type.value}_average_price\", \n",
    "    f\"{housing_type.value}_index\",\n",
    "    f\"{housing_type.value}_monthly_change\", \n",
    "    f\"{housing_type.value}_annual_change\"\n",
    "])\n",
    "hpi"
   ]
  },
  {
   "cell_type": "markdown",
   "metadata": {},
   "source": [
    "## Reading Geography Data"
   ]
  },
  {
   "cell_type": "markdown",
   "metadata": {},
   "source": [
    "Making changes to header records and quoting. "
   ]
  },
  {
   "cell_type": "code",
   "execution_count": 38,
   "metadata": {},
   "outputs": [],
   "source": [
    "def clean_csv(file: str, out: str) -> None:\n",
    "    with open(file, 'r') as infile, open(out, 'w') as outfile:\n",
    "        reader = csv.reader(infile)\n",
    "        writer = csv.writer(outfile, quoting=csv.QUOTE_ALL)\n",
    "        for i, row in enumerate(reader):\n",
    "            if i == 0:\n",
    "                row = [x.lower().replace(\" \", \"_\") for x in row]\n",
    "            writer.writerow(row)\n",
    "\n",
    "geog_files = [\n",
    "    \"../data/Register_of_Geographic_Codes_(December_2023)_UK.csv\"\n",
    "]\n",
    "\n",
    "for file in geog_files:\n",
    "    clean_csv(file, file.replace(\".csv\", \"_clean.csv\"))"
   ]
  },
  {
   "cell_type": "markdown",
   "metadata": {},
   "source": [
    "Reading corrected data"
   ]
  },
  {
   "cell_type": "code",
   "execution_count": 44,
   "metadata": {},
   "outputs": [
    {
     "data": {
      "text/html": [
       "<div><style>\n",
       ".dataframe > thead > tr,\n",
       ".dataframe > tbody > tr {\n",
       "  text-align: right;\n",
       "  white-space: pre-wrap;\n",
       "}\n",
       "</style>\n",
       "<small>shape: (68, 20)</small><table border=\"1\" class=\"dataframe\"><thead><tr><th>﻿entity_code</th><th>entity_name</th><th>entity_abbreviation</th><th>entity_theme</th><th>entity_coverage</th><th>related_entity_codes</th><th>status</th><th>number_of_live_instances</th><th>number_of_archived_instances</th><th>number_of_cross-border_instances</th><th>date_of_last_instance_change</th><th>current_code_(first_in_range)</th><th>current_code_(last_in_range)</th><th>reserved_code_(for_chd_use)</th><th>entity_owner_abbreviation</th><th>date_entity_introduced_on_rgc</th><th>entity_start_date</th><th></th><th>_duplicated_0</th><th>_duplicated_1</th></tr><tr><td>str</td><td>str</td><td>str</td><td>str</td><td>str</td><td>str</td><td>str</td><td>str</td><td>str</td><td>i64</td><td>str</td><td>str</td><td>str</td><td>str</td><td>str</td><td>str</td><td>str</td><td>str</td><td>str</td><td>str</td></tr></thead><tbody><tr><td>&quot;J02&quot;</td><td>&quot;1961 Census Pa…</td><td>&quot;PAR&quot;</td><td>&quot;Census&quot;</td><td>&quot;England and Wa…</td><td>&quot;E92, W92&quot;</td><td>&quot;Current&quot;</td><td>&quot;11852&quot;</td><td>&quot;0&quot;</td><td>0</td><td>&quot;n/a&quot;</td><td>&quot;J02000001&quot;</td><td>&quot;J02011852&quot;</td><td>&quot;J02999999&quot;</td><td>&quot;ONS&quot;</td><td>&quot;20/11/2018&quot;</td><td>&quot;20/11/2018&quot;</td><td>&quot;&quot;</td><td>&quot;&quot;</td><td>&quot;&quot;</td></tr><tr><td>&quot;J03&quot;</td><td>&quot;1961 Census Wa…</td><td>&quot;WD&quot;</td><td>&quot;Census&quot;</td><td>&quot;England and Wa…</td><td>&quot;E92, W92&quot;</td><td>&quot;Current&quot;</td><td>&quot;5212&quot;</td><td>&quot;0&quot;</td><td>0</td><td>&quot;n/a&quot;</td><td>&quot;J03000001&quot;</td><td>&quot;J03005212&quot;</td><td>&quot;J03999999&quot;</td><td>&quot;ONS&quot;</td><td>&quot;20/11/2018&quot;</td><td>&quot;20/11/2018&quot;</td><td>&quot;&quot;</td><td>&quot;&quot;</td><td>&quot;&quot;</td></tr><tr><td>&quot;J04&quot;</td><td>&quot;1961 Census Di…</td><td>&quot;LAD&quot;</td><td>&quot;Census&quot;</td><td>&quot;England and Wa…</td><td>&quot;E92, W92&quot;</td><td>&quot;Current&quot;</td><td>&quot;1467&quot;</td><td>&quot;0&quot;</td><td>0</td><td>&quot;n/a&quot;</td><td>&quot;J04000001&quot;</td><td>&quot;J04001467&quot;</td><td>&quot;J04999999&quot;</td><td>&quot;ONS&quot;</td><td>&quot;20/11/2018&quot;</td><td>&quot;20/11/2018&quot;</td><td>&quot;&quot;</td><td>&quot;&quot;</td><td>&quot;&quot;</td></tr><tr><td>&quot;J05&quot;</td><td>&quot;1961 Census Co…</td><td>&quot;CTY&quot;</td><td>&quot;Census&quot;</td><td>&quot;England and Wa…</td><td>&quot;E92, W92&quot;</td><td>&quot;Current&quot;</td><td>&quot;62&quot;</td><td>&quot;0&quot;</td><td>0</td><td>&quot;n/a&quot;</td><td>&quot;J05000001&quot;</td><td>&quot;J05000062&quot;</td><td>&quot;J05999999&quot;</td><td>&quot;ONS&quot;</td><td>&quot;20/11/2018&quot;</td><td>&quot;20/11/2018&quot;</td><td>&quot;&quot;</td><td>&quot;&quot;</td><td>&quot;&quot;</td></tr><tr><td>&quot;K01&quot;</td><td>&quot;Travel to Work…</td><td>&quot;TTWA&quot;</td><td>&quot;Other&quot;</td><td>&quot;United Kingdom…</td><td>&quot;E30, W22, S22,…</td><td>&quot;Current&quot;</td><td>&quot;6&quot;</td><td>&quot;12&quot;</td><td>6</td><td>&quot;31/07/2015&quot;</td><td>&quot;K01000005&quot;</td><td>&quot;K01000014&quot;</td><td>&quot;K01999999&quot;</td><td>&quot;ONS&quot;</td><td>&quot;01/01/2009&quot;</td><td>&quot;01/01/2009&quot;</td><td>&quot;&quot;</td><td>&quot;&quot;</td><td>&quot;&quot;</td></tr><tr><td>&quot;K02&quot;</td><td>&quot;United Kingdom…</td><td>&quot;UK&quot;</td><td>&quot;Administrative…</td><td>&quot;United Kingdom…</td><td>&quot;E92, W92, S92,…</td><td>&quot;Current&quot;</td><td>&quot;1&quot;</td><td>&quot;0&quot;</td><td>1</td><td>&quot;n/a&quot;</td><td>&quot;K02000001&quot;</td><td>&quot;K02000001&quot;</td><td>&quot;K02999999&quot;</td><td>&quot;ONS&quot;</td><td>&quot;31/10/2010&quot;</td><td>&quot;31/10/2010&quot;</td><td>&quot;&quot;</td><td>&quot;&quot;</td><td>&quot;&quot;</td></tr><tr><td>&quot;K03&quot;</td><td>&quot;Great Britain&quot;</td><td>&quot;GB&quot;</td><td>&quot;Administrative…</td><td>&quot;Great Britain&quot;</td><td>&quot;E92, W92, S92&quot;</td><td>&quot;Current&quot;</td><td>&quot;1&quot;</td><td>&quot;0&quot;</td><td>1</td><td>&quot;n/a&quot;</td><td>&quot;K03000001&quot;</td><td>&quot;K03000001&quot;</td><td>&quot;K03999999&quot;</td><td>&quot;ONS&quot;</td><td>&quot;31/10/2010&quot;</td><td>&quot;31/10/2010&quot;</td><td>&quot;&quot;</td><td>&quot;&quot;</td><td>&quot;&quot;</td></tr><tr><td>&quot;K04&quot;</td><td>&quot;England and Wa…</td><td>&quot;E&amp;W&quot;</td><td>&quot;Administrative…</td><td>&quot;England and Wa…</td><td>&quot;E92, W92&quot;</td><td>&quot;Current&quot;</td><td>&quot;1&quot;</td><td>&quot;0&quot;</td><td>1</td><td>&quot;n/a&quot;</td><td>&quot;K04000001&quot;</td><td>&quot;K04000001&quot;</td><td>&quot;K04999999&quot;</td><td>&quot;ONS&quot;</td><td>&quot;31/10/2010&quot;</td><td>&quot;31/10/2010&quot;</td><td>&quot;&quot;</td><td>&quot;&quot;</td><td>&quot;&quot;</td></tr><tr><td>&quot;K05&quot;</td><td>&quot;Built Up Areas…</td><td>&quot;BUA&quot;</td><td>&quot;Census&quot;</td><td>&quot;England and Wa…</td><td>&quot;E34, W37&quot;</td><td>&quot;Archived&quot;</td><td>&quot;0&quot;</td><td>&quot;11&quot;</td><td>11</td><td>&quot;30/11/2022&quot;</td><td>&quot;K05000001&quot;</td><td>&quot;K05000011&quot;</td><td>&quot;K05999999&quot;</td><td>&quot;ONS&quot;</td><td>&quot;27/06/2013&quot;</td><td>&quot;27/03/2011&quot;</td><td>&quot;&quot;</td><td>&quot;&quot;</td><td>&quot;&quot;</td></tr><tr><td>&quot;K06&quot;</td><td>&quot;Built Up Area …</td><td>&quot;BUASD&quot;</td><td>&quot;Census&quot;</td><td>&quot;England and Wa…</td><td>&quot;E35, W38&quot;</td><td>&quot;Archived&quot;</td><td>&quot;0&quot;</td><td>&quot;4&quot;</td><td>4</td><td>&quot;30/11/2022&quot;</td><td>&quot;K06000001&quot;</td><td>&quot;K06000004&quot;</td><td>&quot;K06999999&quot;</td><td>&quot;ONS&quot;</td><td>&quot;27/06/2013&quot;</td><td>&quot;27/03/2011&quot;</td><td>&quot;&quot;</td><td>&quot;&quot;</td><td>&quot;&quot;</td></tr><tr><td>&quot;K07&quot;</td><td>&quot;Areas of Outst…</td><td>&quot;AONB&quot;</td><td>&quot;Other&quot;</td><td>&quot;England and Wa…</td><td>&quot;E62, W44&quot;</td><td>&quot;Current&quot;</td><td>&quot;1&quot;</td><td>&quot;0&quot;</td><td>1</td><td>&quot;n/a&quot;</td><td>&quot;K07000001&quot;</td><td>&quot;K07000001&quot;</td><td>&quot;K07999999&quot;</td><td>&quot;Natural Englan…</td><td>&quot;21/02/2022&quot;</td><td>&quot;21/02/2022&quot;</td><td>&quot;&quot;</td><td>&quot;&quot;</td><td>&quot;&quot;</td></tr><tr><td>&quot;L00&quot;</td><td>&quot;Strategic Heal…</td><td>&quot;SHA&quot;</td><td>&quot;Health&quot;</td><td>&quot;Channel Island…</td><td>&quot;E18, M00&quot;</td><td>&quot;Current&quot;</td><td>&quot;3&quot;</td><td>&quot;0&quot;</td><td>0</td><td>&quot;n/a&quot;</td><td>&quot;L00000001&quot;</td><td>&quot;L00000003&quot;</td><td>&quot;L00999999&quot;</td><td>&quot;ODS&quot;</td><td>&quot;01/01/2009&quot;</td><td>&quot;01/01/2009&quot;</td><td>&quot;&quot;</td><td>&quot;&quot;</td><td>&quot;&quot;</td></tr><tr><td>&hellip;</td><td>&hellip;</td><td>&hellip;</td><td>&hellip;</td><td>&hellip;</td><td>&hellip;</td><td>&hellip;</td><td>&hellip;</td><td>&hellip;</td><td>&hellip;</td><td>&hellip;</td><td>&hellip;</td><td>&hellip;</td><td>&hellip;</td><td>&hellip;</td><td>&hellip;</td><td>&hellip;</td><td>&hellip;</td><td>&hellip;</td><td>&hellip;</td></tr><tr><td>&quot;W35&quot;</td><td>&quot;Workplace Zone…</td><td>&quot;WZ&quot;</td><td>&quot;Census&quot;</td><td>&quot;Wales&quot;</td><td>&quot;E33, S34, N19&quot;</td><td>&quot;Current&quot;</td><td>&quot;2,710&quot;</td><td>&quot;0&quot;</td><td>0</td><td>&quot;n/a&quot;</td><td>&quot;W35000001&quot;</td><td>&quot;W35002710&quot;</td><td>&quot;W35999999&quot;</td><td>&quot;ONS&quot;</td><td>&quot;31/01/2013&quot;</td><td>&quot;31/12/2011&quot;</td><td>&quot;&quot;</td><td>&quot;&quot;</td><td>&quot;&quot;</td></tr><tr><td>&quot;W37&quot;</td><td>&quot;Built Up Areas…</td><td>&quot;BUA&quot;</td><td>&quot;Census&quot;</td><td>&quot;Wales&quot;</td><td>&quot;E34, K05&quot;</td><td>&quot;Archived&quot;</td><td>&quot;0&quot;</td><td>&quot;459&quot;</td><td>11</td><td>&quot;30/11/2022&quot;</td><td>&quot;W37000001&quot;</td><td>&quot;W37000459&quot;</td><td>&quot;W37999999&quot;</td><td>&quot;ONS&quot;</td><td>&quot;27/06/2013&quot;</td><td>&quot;27/03/2011&quot;</td><td>&quot;&quot;</td><td>&quot;&quot;</td><td>&quot;&quot;</td></tr><tr><td>&quot;W38&quot;</td><td>&quot;Built Up Area …</td><td>&quot;BUASD&quot;</td><td>&quot;Census&quot;</td><td>&quot;Wales&quot;</td><td>&quot;E35, K06&quot;</td><td>&quot;Archived&quot;</td><td>&quot;0&quot;</td><td>&quot;160&quot;</td><td>4</td><td>&quot;30/11/2022&quot;</td><td>&quot;W38000001&quot;</td><td>&quot;W38000160&quot;</td><td>&quot;W38999999&quot;</td><td>&quot;ONS&quot;</td><td>&quot;27/06/2013&quot;</td><td>&quot;27/03/2011&quot;</td><td>&quot;&quot;</td><td>&quot;&quot;</td><td>&quot;&quot;</td></tr><tr><td>&quot;W39&quot;</td><td>&quot;Census Merged …</td><td>&quot;CMWD&quot;</td><td>&quot;Census&quot;</td><td>&quot;Wales&quot;</td><td>&quot;E36&quot;</td><td>&quot;Current&quot;</td><td>&quot;868&quot;</td><td>&quot;0&quot;</td><td>0</td><td>&quot;n/a&quot;</td><td>&quot;W39000001&quot;</td><td>&quot;W39000868&quot;</td><td>&quot;W39999999&quot;</td><td>&quot;ONS&quot;</td><td>&quot;31/01/2013&quot;</td><td>&quot;31/12/2011&quot;</td><td>&quot;&quot;</td><td>&quot;&quot;</td><td>&quot;&quot;</td></tr><tr><td>&quot;W40&quot;</td><td>&quot;Census Merged …</td><td>&quot;CMLAD&quot;</td><td>&quot;Census&quot;</td><td>&quot;Wales&quot;</td><td>&quot;E41&quot;</td><td>&quot;Current&quot;</td><td>&quot;22&quot;</td><td>&quot;0&quot;</td><td>0</td><td>&quot;n/a&quot;</td><td>&quot;W40000001&quot;</td><td>&quot;W40000022&quot;</td><td>&quot;W40999999&quot;</td><td>&quot;ONS&quot;</td><td>&quot;01/04/2013&quot;</td><td>&quot;31/12/2011&quot;</td><td>&quot;&quot;</td><td>&quot;&quot;</td><td>&quot;&quot;</td></tr><tr><td>&quot;W41&quot;</td><td>&quot;Local Resilien…</td><td>&quot;LRF&quot;</td><td>&quot;Other&quot;</td><td>&quot;Wales&quot;</td><td>&quot;E48&quot;</td><td>&quot;Current&quot;</td><td>&quot;4&quot;</td><td>&quot;0&quot;</td><td>0</td><td>&quot;n/a&quot;</td><td>&quot;W41000001&quot;</td><td>&quot;W41000004&quot;</td><td>&quot;W41999999&quot;</td><td>&quot;DLUHC&quot;</td><td>&quot;23/07/2015&quot;</td><td>&quot;01/08/2015&quot;</td><td>&quot;&quot;</td><td>&quot;&quot;</td><td>&quot;&quot;</td></tr><tr><td>&quot;W43&quot;</td><td>&quot;Local Planning…</td><td>&quot;LPA&quot;</td><td>&quot;Administrative…</td><td>&quot;Wales&quot;</td><td>&quot;E60, N13, S44&quot;</td><td>&quot;Current&quot;</td><td>&quot;25&quot;</td><td>&quot;0&quot;</td><td>0</td><td>&quot;n/a&quot;</td><td>&quot;W43000001&quot;</td><td>&quot;W43000025&quot;</td><td>&quot;W43999999&quot;</td><td>&quot;ONS&quot;</td><td>&quot;01/07/2019&quot;</td><td>&quot;01/04/2019&quot;</td><td>&quot;&quot;</td><td>&quot;&quot;</td><td>&quot;&quot;</td></tr><tr><td>&quot;W44&quot;</td><td>&quot;Areas of Outst…</td><td>&quot;AONB&quot;</td><td>&quot;Other&quot;</td><td>&quot;Wales&quot;</td><td>&quot;E62, K07&quot;</td><td>&quot;Current&quot;</td><td>&quot;4&quot;</td><td>&quot;0&quot;</td><td>1</td><td>&quot;n/a&quot;</td><td>&quot;W44000001&quot;</td><td>&quot;W44000004&quot;</td><td>&quot;W44999999&quot;</td><td>&quot;Natural Resour…</td><td>&quot;21/02/2022&quot;</td><td>&quot;21/02/2022&quot;</td><td>&quot;&quot;</td><td>&quot;&quot;</td><td>&quot;&quot;</td></tr><tr><td>&quot;W45&quot;</td><td>&quot;Built Up Areas…</td><td>&quot;BUA&quot;</td><td>&quot;Census&quot;</td><td>&quot;Wales&quot;</td><td>&quot;E63, S45, K08&quot;</td><td>&quot;Current&quot;</td><td>&quot;622&quot;</td><td>&quot;0&quot;</td><td>10</td><td>&quot;01/12/2022&quot;</td><td>&quot;W45000001&quot;</td><td>&quot;W45000622&quot;</td><td>&quot;W45999999&quot;</td><td>&quot;OS&quot;</td><td>&quot;14/10/2022&quot;</td><td>&quot;14/10/2022&quot;</td><td>&quot;&quot;</td><td>&quot;&quot;</td><td>&quot;&quot;</td></tr><tr><td>&quot;W46&quot;</td><td>&quot;Grouped Local …</td><td>&quot;GLAD&quot;</td><td>&quot;Census&quot;</td><td>&quot;Wales&quot;</td><td>&quot;E66&quot;</td><td>&quot;Current&quot;</td><td>&quot;3&quot;</td><td>&quot;0&quot;</td><td>0</td><td>&quot;n/a&quot;</td><td>&quot;W46000001&quot;</td><td>&quot;W46000003&quot;</td><td>&quot;W46999999&quot;</td><td>&quot;ONS&quot;</td><td>&quot;11/04/2023&quot;</td><td>&quot;11/04/2023&quot;</td><td>&quot;&quot;</td><td>&quot;&quot;</td><td>&quot;&quot;</td></tr><tr><td>&quot;W47&quot;</td><td>&quot;Grouped Lower …</td><td>&quot;GLTLA&quot;</td><td>&quot;Census&quot;</td><td>&quot;Wales&quot;</td><td>&quot;E68&quot;</td><td>&quot;Current&quot;</td><td>&quot;17&quot;</td><td>&quot;0&quot;</td><td>0</td><td>&quot;n/a&quot;</td><td>&quot;W47000001&quot;</td><td>&quot;W47000017&quot;</td><td>&quot;W47999999&quot;</td><td>&quot;ONS&quot;</td><td>&quot;10/05/2023&quot;</td><td>&quot;10/05/2023&quot;</td><td>&quot;&quot;</td><td>&quot;&quot;</td><td>&quot;&quot;</td></tr><tr><td>&quot;W92&quot;</td><td>&quot;Country&quot;</td><td>&quot;CTRY&quot;</td><td>&quot;Administrative…</td><td>&quot;Wales&quot;</td><td>&quot;E92, S92, N92,…</td><td>&quot;Current&quot;</td><td>&quot;1&quot;</td><td>&quot;0&quot;</td><td>0</td><td>&quot;n/a&quot;</td><td>&quot;W92000004&quot;</td><td>&quot;W92000004&quot;</td><td>&quot;W92999999&quot;</td><td>&quot;ONS&quot;</td><td>&quot;01/01/2009&quot;</td><td>&quot;01/01/2009&quot;</td><td>&quot;&quot;</td><td>&quot;&quot;</td><td>&quot;&quot;</td></tr></tbody></table></div>"
      ],
      "text/plain": [
       "shape: (68, 20)\n",
       "┌────────────┬────────────┬────────────┬────────────┬───┬────────────┬─────┬───────────┬───────────┐\n",
       "│ ﻿entity_cod ┆ entity_nam ┆ entity_abb ┆ entity_the ┆ … ┆ entity_sta ┆     ┆ _duplicat ┆ _duplicat │\n",
       "│ e          ┆ e          ┆ reviation  ┆ me         ┆   ┆ rt_date    ┆ --- ┆ ed_0      ┆ ed_1      │\n",
       "│ ---        ┆ ---        ┆ ---        ┆ ---        ┆   ┆ ---        ┆ str ┆ ---       ┆ ---       │\n",
       "│ str        ┆ str        ┆ str        ┆ str        ┆   ┆ str        ┆     ┆ str       ┆ str       │\n",
       "╞════════════╪════════════╪════════════╪════════════╪═══╪════════════╪═════╪═══════════╪═══════════╡\n",
       "│ J02        ┆ 1961       ┆ PAR        ┆ Census     ┆ … ┆ 20/11/2018 ┆     ┆           ┆           │\n",
       "│            ┆ Census     ┆            ┆            ┆   ┆            ┆     ┆           ┆           │\n",
       "│            ┆ Parishes   ┆            ┆            ┆   ┆            ┆     ┆           ┆           │\n",
       "│ J03        ┆ 1961       ┆ WD         ┆ Census     ┆ … ┆ 20/11/2018 ┆     ┆           ┆           │\n",
       "│            ┆ Census     ┆            ┆            ┆   ┆            ┆     ┆           ┆           │\n",
       "│            ┆ Wards      ┆            ┆            ┆   ┆            ┆     ┆           ┆           │\n",
       "│ J04        ┆ 1961       ┆ LAD        ┆ Census     ┆ … ┆ 20/11/2018 ┆     ┆           ┆           │\n",
       "│            ┆ Census     ┆            ┆            ┆   ┆            ┆     ┆           ┆           │\n",
       "│            ┆ Districts  ┆            ┆            ┆   ┆            ┆     ┆           ┆           │\n",
       "│ J05        ┆ 1961       ┆ CTY        ┆ Census     ┆ … ┆ 20/11/2018 ┆     ┆           ┆           │\n",
       "│            ┆ Census     ┆            ┆            ┆   ┆            ┆     ┆           ┆           │\n",
       "│            ┆ Counties   ┆            ┆            ┆   ┆            ┆     ┆           ┆           │\n",
       "│ …          ┆ …          ┆ …          ┆ …          ┆ … ┆ …          ┆ …   ┆ …         ┆ …         │\n",
       "│ W45        ┆ Built Up   ┆ BUA        ┆ Census     ┆ … ┆ 14/10/2022 ┆     ┆           ┆           │\n",
       "│            ┆ Areas      ┆            ┆            ┆   ┆            ┆     ┆           ┆           │\n",
       "│ W46        ┆ Grouped    ┆ GLAD       ┆ Census     ┆ … ┆ 11/04/2023 ┆     ┆           ┆           │\n",
       "│            ┆ Local      ┆            ┆            ┆   ┆            ┆     ┆           ┆           │\n",
       "│            ┆ Authority  ┆            ┆            ┆   ┆            ┆     ┆           ┆           │\n",
       "│            ┆ District…  ┆            ┆            ┆   ┆            ┆     ┆           ┆           │\n",
       "│ W47        ┆ Grouped    ┆ GLTLA      ┆ Census     ┆ … ┆ 10/05/2023 ┆     ┆           ┆           │\n",
       "│            ┆ Lower Tier ┆            ┆            ┆   ┆            ┆     ┆           ┆           │\n",
       "│            ┆ Local      ┆            ┆            ┆   ┆            ┆     ┆           ┆           │\n",
       "│            ┆ Authori…   ┆            ┆            ┆   ┆            ┆     ┆           ┆           │\n",
       "│ W92        ┆ Country    ┆ CTRY       ┆ Administra ┆ … ┆ 01/01/2009 ┆     ┆           ┆           │\n",
       "│            ┆            ┆            ┆ tive       ┆   ┆            ┆     ┆           ┆           │\n",
       "└────────────┴────────────┴────────────┴────────────┴───┴────────────┴─────┴───────────┴───────────┘"
      ]
     },
     "execution_count": 44,
     "metadata": {},
     "output_type": "execute_result"
    }
   ],
   "source": [
    "postcode = \"E\"\n",
    "geography = pl.read_csv(\"../data/geography_lookup.csv\")\n",
    "geography.filter(pl.col(\"related_entity_codes\").str.contains(postcode))\n",
    "# geography\n",
    "        \n",
    "            "
   ]
  }
 ],
 "metadata": {
  "kernelspec": {
   "display_name": "uk-hpi-9uC4GtS6-py3.12",
   "language": "python",
   "name": "python3"
  },
  "language_info": {
   "codemirror_mode": {
    "name": "ipython",
    "version": 3
   },
   "file_extension": ".py",
   "mimetype": "text/x-python",
   "name": "python",
   "nbconvert_exporter": "python",
   "pygments_lexer": "ipython3",
   "version": "3.12.1"
  }
 },
 "nbformat": 4,
 "nbformat_minor": 2
}
